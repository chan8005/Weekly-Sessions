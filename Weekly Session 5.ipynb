{
 "cells": [
  {
   "cell_type": "markdown",
   "metadata": {},
   "source": [
    "## Goal\n",
    "To develop further capability with numerical methods for integration.\n",
    "\n",
    "We will also have a brief introduction to the idea of numerical\n",
    "approximation of derivatives, as preparation for thinking about\n",
    "ordinary and partial differential equations.\n",
    "\n",
    "## Readings\n",
    "Let us list all the sections we are covering in Newman Chapter 5 **Integrals and derivatives**, including those we read last week:\n",
    "\n",
    "    5.1 Fundamental methods for evaluating integrals\n",
    "\n",
    "    5.2 Errors on integrals\n",
    "\n",
    "    5.3 Choosing the number of steps\n",
    "\n",
    "    5.4 Romberg integration*\n",
    "\n",
    "    5.5 Higher-order integration methods\n",
    "\n",
    "    5.7 Choosing an integration method\n",
    "\n",
    "    5.8 Integrals over infinite ranges*\n",
    "\n",
    "    5.10 Derivatives* -- Just read subsections 5.10.1-5.10.3 for the basics.\n",
    "\n",
    "\\* New reading this week.\n"
   ]
  },
  {
   "cell_type": "code",
   "execution_count": 3,
   "metadata": {},
   "outputs": [
    {
     "data": {
      "text/html": [
       "<style>\n",
       "div.warn {\n",
       "    background-color: black;\n",
       "    border-color: #dFb5b4;\n",
       "    border-left: 5px solid #dfb5b4;\n",
       "    padding: 0.5em\n",
       "    color: white;\n",
       "    }\n",
       " </style>\n",
       "\n",
       " <style>\n",
       " div.answer {\n",
       "     background-color: lightblue;\n",
       "     border-color: #dFb5b4;\n",
       "     border-left: 5px solid #dfb5b4;\n",
       "     padding: 0.5em\n",
       "     }\n",
       "  </style>\n"
      ],
      "text/plain": [
       "<IPython.core.display.HTML object>"
      ]
     },
     "execution_count": 3,
     "metadata": {},
     "output_type": "execute_result"
    }
   ],
   "source": [
    "#For colored cells, currently blue cells, black text \n",
    "#https://stackoverflow.com/questions/18024769/adding-custom-styled-paragraphs-in-markdown-cells\n",
    "from IPython.core.display import HTML\n",
    "def css_styling():\n",
    "    styles = open(\"style.css\", \"r\").read()\n",
    "    return HTML(styles)\n",
    "css_styling()"
   ]
  },
  {
   "cell_type": "markdown",
   "metadata": {},
   "source": [
    "<div class=answer>\n",
    "*This should be a blue cell with black font if you set the filepath correctly*</font>\n",
    "<div/>"
   ]
  },
  {
   "cell_type": "markdown",
   "metadata": {},
   "source": [
    "## Overview\n",
    "\n",
    "There are two aspects to this week's investigations:\n",
    "\n",
    "1.  The first is more technically oriented - we will reorient our thinking towards calculating results to a  given *tolerance*, rather than with a fixed number of steps.  We will then explore the idea of extrapolating to a more accurate answer - Romberg integration is an example of the more general approach of Richardson extrapolation, which is also applied in other contexts (in particular, solution of differential equations).\n",
    "\n",
    "2. The second aspect is oriented towards developing savvy in the use of numerical integration.  We will develop a feel for some of the less well-behaved types of integrals which one encounters in practice, and see ways of handling integrals over infinite ranges."
   ]
  },
  {
   "cell_type": "markdown",
   "metadata": {},
   "source": [
    "This week you may use your own integration technique, or ```integrate.py``` to do this.  See some directions below the answer box for importing ```integrate.py```.  To use it, look at your work from last week, or call ```help(integrate)```.  To import the module, either you need a local copy of ```integrate.py``` in which case you can run:  "
   ]
  },
  {
   "cell_type": "code",
   "execution_count": 28,
   "metadata": {
    "collapsed": true
   },
   "outputs": [],
   "source": [
    "import integrate\n",
    "import math\n",
    "\n",
    "# benchmark function - as last week\n",
    "def f_decay(x):\n",
    "    return math.exp(-x)\n",
    "int_decay = 1 - 1/math.e\n",
    "\n",
    "# sample quick checks\n",
    "#print(integrate.integrate(f_decay,(0,1),100)[0])           #trapezoid, 100 steps\n",
    "#print(integrate.integrate(f_decay,(0,1),1000)[0])          #trapezoid, 100 steps\n",
    "#print(integrate.integrate(f_decay,(0,1),100,order=2)[0])   #simpsons, 1000 steps"
   ]
  },
  {
   "cell_type": "markdown",
   "metadata": {},
   "source": [
    "Or alternatively you can use the ```sys``` module (short for system) to update the filepaths that python will look for modules in.  The code for that is:  "
   ]
  },
  {
   "cell_type": "code",
   "execution_count": 81,
   "metadata": {},
   "outputs": [
    {
     "ename": "ModuleNotFoundError",
     "evalue": "No module named 'integrate_2'",
     "output_type": "error",
     "traceback": [
      "\u001b[1;31m---------------------------------------------------------------------------\u001b[0m",
      "\u001b[1;31mModuleNotFoundError\u001b[0m                       Traceback (most recent call last)",
      "\u001b[1;32m<ipython-input-81-ac4ff7b4ff80>\u001b[0m in \u001b[0;36m<module>\u001b[1;34m()\u001b[0m\n\u001b[0;32m      1\u001b[0m \u001b[1;32mimport\u001b[0m \u001b[0msys\u001b[0m\u001b[1;33m\u001b[0m\u001b[0m\n\u001b[0;32m      2\u001b[0m \u001b[0msys\u001b[0m\u001b[1;33m.\u001b[0m\u001b[0mpath\u001b[0m\u001b[1;33m.\u001b[0m\u001b[0mappend\u001b[0m\u001b[1;33m(\u001b[0m\u001b[1;34m\"/Users/mcde2235/Box Sync/Coursework/PHY325/Spring2018/Labs/Lab4\"\u001b[0m\u001b[1;33m)\u001b[0m\u001b[1;33m\u001b[0m\u001b[0m\n\u001b[1;32m----> 3\u001b[1;33m \u001b[1;32mimport\u001b[0m \u001b[0mintegrate_2\u001b[0m\u001b[1;33m\u001b[0m\u001b[0m\n\u001b[0m",
      "\u001b[1;31mModuleNotFoundError\u001b[0m: No module named 'integrate_2'"
     ]
    }
   ],
   "source": [
    "import sys\n",
    "sys.path.append(\"/Users/mcde2235/Box Sync/Coursework/PHY325/Spring2018/Labs/Lab4\")\n",
    "import integrate_2  \n"
   ]
  },
  {
   "cell_type": "markdown",
   "metadata": {},
   "source": [
    "**FYI: if you modify your module, you will need to restart the kernel to use the modified codes.  There are some alternative methods, but nothing elegant\n",
    "[source](https://support.enthought.com/hc/en-us/articles/204469240-Jupyter-IPython-After-editing-a-module-changes-are-not-effective-without-kernel-restart).**"
   ]
  },
  {
   "cell_type": "markdown",
   "metadata": {},
   "source": [
    "## Exercise 1: \n",
    "\n",
    "In Section 5.2.1, Newman describes the practical method for estimating the error in a trapezoidal rule or Simpson's rule calculation.  Try these error estimates out for the trapezoidal rule on our benchmark integral, with $20$ steps\n",
    "and $200$ steps.  __How close are the estimates to the actual errors?__  What about the sign (this will matter when we get to Romberg integration)? Repeat for Simpson's rule."
   ]
  },
  {
   "cell_type": "code",
   "execution_count": 24,
   "metadata": {},
   "outputs": [
    {
     "name": "stdout",
     "output_type": "stream",
     "text": [
      "Help on module integrate:\n",
      "\n",
      "NAME\n",
      "    integrate\n",
      "\n",
      "DESCRIPTION\n",
      "    #Original Author Mark Caprio\n",
      "    #University of Notre Dame\n",
      "    #Spring 2014\n",
      "\n",
      "FUNCTIONS\n",
      "    integrate(f, interval, steps, order=1, float_type=<class 'float'>)\n",
      "        Evaluate integral by Newton-Cotes rule (trapezoidal, Simpson's, etc.).\n",
      "        \n",
      "        f: function to integrate\n",
      "        interval: tuple integration region (a,b)\n",
      "        steps: number of integration steps (must be valid for order chosen)\n",
      "        order (optional): integer order for integration (1..4)\n",
      "        float_type: float type to which each term is converted before addition\n",
      "        \n",
      "        returns:\n",
      "            total_integral (floating point number)\n",
      "            x_array (1D np.array containing independent variable)\n",
      "            I_array (1D np.array containing integrated values)\n",
      "\n",
      "DATA\n",
      "    endpoint_weights = [0.5, 0.3333333333333333, 0.375, 0.3111111111111111...\n",
      "    interior_weights = [[1], [0.6666666666666666, 1.3333333333333333], [0....\n",
      "\n",
      "FILE\n",
      "    c:\\users\\chand\\desktop\\gitstuff\\repositories\\weekly-sessions\\integrate.py\n",
      "\n",
      "\n"
     ]
    }
   ],
   "source": [
    "help(integrate)\n"
   ]
  },
  {
   "cell_type": "code",
   "execution_count": 6,
   "metadata": {
    "scrolled": true
   },
   "outputs": [
    {
     "name": "stdout",
     "output_type": "stream",
     "text": [
      "0.632120558829\n",
      "the integral for 20 steps is: 0.632252245124816\n",
      "difference between exact and trapezoid with 20 steps is: -0.000131686296258\n",
      "the integral for 200 steps is: 0.6321218757458401\n",
      "difference between exact and trapezoid with 200 steps is: -1.31691728245e-06\n",
      "the integral for 20 steps is: 0.6321205807706576\n",
      "difference between exact and simpson with 20 steps is: -2.19420999148e-08\n",
      "the integral for 200 steps is: 0.6321205588307526\n",
      "difference between exact and simpson with 200 steps is: -2.19491091968e-12\n"
     ]
    }
   ],
   "source": [
    "import numpy as np\n",
    "N = 20\n",
    "a = 0\n",
    "b = 1\n",
    "\n",
    "\n",
    "yexact=-np.exp(-1)+1\n",
    "print(yexact)\n",
    "\n",
    "\n",
    "def f(x): \n",
    "    '''calculates the y value of a quadtratic eqation. '''\n",
    "    return np.e**-x\n",
    "\n",
    "total_integral20, x_array20, I_array20= integrate.integrate( f,(a,b),N)\n",
    "\n",
    "\n",
    "print(\"the integral for 20 steps is:\",total_integral20)\n",
    "\n",
    "difftrap= yexact-total_integral20\n",
    "print( \"difference between exact and trapezoid with 20 steps is:\", difftrap)\n",
    "\n",
    "N=200\n",
    "\n",
    "total_integral200, x_array200, I_array200= integrate.integrate( f,(a,b),N)\n",
    "print(\"the integral for 200 steps is:\",total_integral200)\n",
    "\n",
    "difftrap= yexact-total_integral200\n",
    "print( \"difference between exact and trapezoid with 200 steps is:\", difftrap)\n",
    "\n",
    "\n",
    "\n",
    "N=20\n",
    "total_integral20, x_array20, I_array20= integrate.integrate( f,(a,b),N, order=2)\n",
    "\n",
    "\n",
    "print(\"the integral for 20 steps is:\",total_integral20)\n",
    "\n",
    "difftrap= yexact-total_integral20\n",
    "print( \"difference between exact and simpson with 20 steps is:\", difftrap)\n",
    "\n",
    "N=200\n",
    "\n",
    "total_integral200, x_array200, I_array200= integrate.integrate( f,(a,b),N, order=2)\n",
    "print(\"the integral for 200 steps is:\",total_integral200)\n",
    "\n",
    "difftrap= yexact-total_integral200\n",
    "print( \"difference between exact and simpson with 200 steps is:\", difftrap)\n",
    "\n",
    "\n"
   ]
  },
  {
   "cell_type": "markdown",
   "metadata": {},
   "source": [
    "<div class=answer>\n",
    "<div/>\n",
    "N with 200 steps gives a smaller error than when we have 20 steps. The sign doesn't really matter because we are only looking at the difference between the analytical and approximate. "
   ]
  },
  {
   "cell_type": "markdown",
   "metadata": {},
   "source": [
    "## Exercise 2\n",
    "### Trapezoidal rule with tolerance goal (Newman's Adaptive Method)\n",
    "\n",
    "In practice, integration with a fixed  number of *steps* is not useful for automated use.  If your code must calculate millions of integrals (or even just hundreds of integrals), and you need a certain accuracy, it is simply impractical for you to intervene and hand-pick the number of steps for each integral.  You could just choose a \"really big'' number of steps for all integrals, even when they are not needed, but this will make your code impractically slow (perhaps factors of hundreds slower than it needs to be).\n",
    "\n",
    "Following the approach outlined in Newman Section 5.3, let us write a function which uses the trapezoidal rule to calculate with $1$, $2$, $4$, $8$, $\\ldots$ steps (*i.e.*, $~2^i$ steps), until the error estimate falls below a specified tolerance.  \n",
    "\n",
    "As Newman points out, we do not need to calculate all the points from scratch in each successive iteration.  Your\n",
    "function should follow's Newman's approach, *i.e.*, \"reusing'' the value of the previous integral to avoid evaluating the integrand $f$ at the same point more than once.\n",
    "\n",
    "In fact, let us see how how much of an improvement this gives. Suppose we ultimately need, say, $2^{5}$ steps.  How many times would we have to evaluate $f$ if we evaluated the integral from scratch with each iteration ($1$, $2$, $4$, $8$, $\\ldots$ steps)?  How many times would we have to evaluate $f$ if we reused the prior integrals, instead?"
   ]
  },
  {
   "cell_type": "markdown",
   "metadata": {},
   "source": [
    "<div class=answer>\n",
    "<div/>\n",
    "we would need to do it 63 times the regular way and 31 times with newman's method. "
   ]
  },
  {
   "cell_type": "code",
   "execution_count": 7,
   "metadata": {},
   "outputs": [
    {
     "name": "stdout",
     "output_type": "stream",
     "text": [
      "31\n"
     ]
    }
   ],
   "source": [
    "total=0\n",
    "for n in range(5):\n",
    "        total += 2**n\n",
    "print(total)"
   ]
  },
  {
   "cell_type": "markdown",
   "metadata": {},
   "source": [
    "Also, it will help if your function can produce verbose output, showing the integral and error estimate at each stage, and the residual relative to a known true value (you can peek at ```romberg.py``` for ideas on how to do this).\n",
    "\n",
    "You can name your function ```integrate_adaptive```, and either embed it in this notebook in a code cell (as usual) or add it to the ```integrate.py``` which I gave you last week.   "
   ]
  },
  {
   "cell_type": "code",
   "execution_count": 89,
   "metadata": {},
   "outputs": [
    {
     "name": "stdout",
     "output_type": "stream",
     "text": [
      "(0.6321205588776161, 15, -4.905901610878042e-11)\n"
     ]
    }
   ],
   "source": [
    "tolerance= 10**-10\n",
    "a=0\n",
    "b=1\n",
    "\n",
    "def integrate_adaptive(f,a,b,tolerance, verbose= False):\n",
    "    \"\"\" evaluates an integral to a given tolerance\n",
    "    f = function we are taking the integral of \n",
    "    a= begining bound of the integral\n",
    "    b= end bound of integral\"\"\"\n",
    "    \n",
    "    if verbose == True:\n",
    "        print(\"Using the adaptive trapezoid method on: \",f)\n",
    "        print(\"over the interval: \",a,b)\n",
    "        print(\"with a tolerance of: \", tolerance)\n",
    "    \n",
    "    error= 2*tolerance                 # makes sure that the error is bigger than tolerance so it can enter while loop\n",
    "    N0 = 1                           #sets initial steps to 1\n",
    "    I0 = (f(a) + f(b))*0.5   # sets inital integral value, calculates trapezoid rule if only one step was used \n",
    "    iterations= 0\n",
    "    while abs(error)>tolerance:\n",
    "        iterations += 1\n",
    "        if N0>(2**25):\n",
    "            break\n",
    "        \n",
    "        N1 = 2*N0          #the new N value is 2x bigger than previous\n",
    "        h1 = (b-a)/N1      #with new N value, H1 value is calculated\n",
    "        I1 = 0             # variable holder so we can sum up odd terms in the integral\n",
    "        \n",
    "        if verbose == True:\n",
    "            print (\"h1 is\",h1)\n",
    "            print (\"N1 is\",N1)\n",
    "        \n",
    "        for k in range (1,(N1),2): \n",
    "                I1 += f(a+k*h1)         # adds up all of the odd terms in the integral to I1\n",
    "        \n",
    "        if verbose == True:\n",
    "            print(\"I1 after for loop\",I1)\n",
    "        I1 = I1*h1                        # multiplies the sum of the odd terms by h1\n",
    "        if verbose == True:\n",
    "            print (\"I1 after being multiplied by h1\",I1)\n",
    "        I1 += 0.5*I0                      # adds in .5 *I0 to I1\n",
    "        if verbose == True:\n",
    "            print (\"I1 after addition of .5*I0\",I1)\n",
    "        error = (I1-I0)/3                  #calculates error\n",
    "        if verbose == True:\n",
    "            print ( \"error is\", error)           #prints what step number, new I1 and error is at end of each while loop\n",
    "        I0 = I1                       # sets I1 of this loop as I0 for next loop\n",
    "        N0 = N1                         # sets N1 of this loop as I0 for next loop\n",
    "        \n",
    "        \n",
    "        if verbose == True:\n",
    "            print(\"new NO is\",N0)\n",
    "            print(\"I0 is\",I0)\n",
    "    return I0, iterations, error\n",
    "    \n",
    "integrate=integrate_adaptive(f,a,b,tolerance,verbose= False )\n",
    "int_decay = 1 - 1/math.e\n",
    "print(integrate) \n",
    "#print (int_decay)"
   ]
  },
  {
   "cell_type": "markdown",
   "metadata": {},
   "source": [
    "Test your new function out on the same benchmark integral\n",
    "$$\n",
    "\\int_0^1 e^{-x}\\,dx\n",
    "$$\n",
    "as last week, and see how many iterations $i$ (and thus steps $2^i$) are\n",
    "required to achieve a tolerance of $10^{-10}$."
   ]
  },
  {
   "cell_type": "code",
   "execution_count": null,
   "metadata": {},
   "outputs": [],
   "source": [
    "\n",
    "def f(x): \n",
    "    '''calculates the y value of a quadtratic eqation. '''\n",
    "    return np.e**-x\n",
    "integrate= integrate_adaptive(f,a,b,tolerance)\n",
    "\n",
    "print (integrate)"
   ]
  },
  {
   "cell_type": "markdown",
   "metadata": {},
   "source": [
    "integrate=integrate_adaptive(a,b,tolerance)\n",
    "int_decay = 1 - 1/math.e\n",
    "print(integrate) \n",
    "print (int_decay)"
   ]
  },
  {
   "cell_type": "markdown",
   "metadata": {
    "collapsed": true
   },
   "source": [
    "<div class=answer>\n",
    "<div/>\n",
    "I did not reach 10^-10 tolerance, the loop just kept running. I did get an answer of 0.63212040975812 which ran through 27 iterations with an error of "
   ]
  },
  {
   "cell_type": "markdown",
   "metadata": {},
   "source": [
    "## Exercise 3\n",
    "### Romberg integration\n",
    "\n",
    "In the interest of time, I have gone ahead and provided you with code for Romberg integration in ```romberg.py```.  It is basically just a straightforward extension of what you just coded for the trapezoidal rule.  (That is, as with most code, it is straightforward in *retrospect*, once it is written...)\n",
    "\n",
    "First, try the function ```romberg.romberg``` on our benchmark integral.  Enable the verbose output (```verbose=True```), and provide the function with the true value (```reference=...```) so it can print the residual.  Let us try for a tolerance of $10^{-10}$ again."
   ]
  },
  {
   "cell_type": "code",
   "execution_count": 81,
   "metadata": {},
   "outputs": [
    {
     "name": "stdout",
     "output_type": "stream",
     "text": [
      "integrating on range (0, 1)\n",
      "  reference value +6.32121e-01\n",
      "\n",
      "R(0,0) +6.839397205857212e-01 ... residual -5.1819e-02\n",
      "\n",
      "R(1,0) +6.452351901491773e-01 epsilon(1,0) -1.2902e-02 ... residual -1.3115e-02\n",
      "R(1,1) +6.323336800036626e-01 ... residual -2.1312e-04\n",
      "\n",
      "R(2,0) +6.354094290276936e-01 epsilon(2,0) -3.2753e-03 ... residual -3.2889e-03\n",
      "R(2,1) +6.321341753205323e-01 epsilon(2,1) -1.3300e-05 ... residual -1.3616e-05\n",
      "R(2,2) +6.321208750083236e-01 ... residual -3.1618e-07\n",
      "\n",
      "R(3,0) +6.329434182104802e-01 epsilon(3,0) -8.2200e-04 ... residual -8.2286e-04\n",
      "R(3,1) +6.321214146047424e-01 epsilon(3,1) -8.5071e-07 ... residual -8.5578e-07\n",
      "R(3,2) +6.321205638903564e-01 epsilon(3,2) -4.9384e-09 ... residual -5.0618e-09\n",
      "R(3,3) +6.321205589519759e-01 ... residual -1.2342e-10\n",
      "\n",
      "R(4,0) +6.323263138444998e-01 epsilon(4,0) -2.0570e-04 ... residual -2.0576e-04\n",
      "R(4,1) +6.321206123891729e-01 epsilon(4,1) -5.3481e-08 ... residual -5.3561e-08\n",
      "R(4,2) +6.321205589081349e-01 epsilon(4,2) -7.9083e-11 ... residual -7.9577e-11\n",
      "R(4,3) +6.321205588290520e-01 epsilon(4,3) -4.8205e-13 ... residual -4.9438e-13\n",
      "R(4,4) +6.321205588285700e-01 ... residual -1.2323e-14\n",
      "\n",
      "analytical answer is: 0.6321205588285577\n"
     ]
    }
   ],
   "source": [
    "import romberg\n",
    "\n",
    "rom= romberg.romberg(f,(a,b), tolerance, verbose= True, reference= int_decay)\n",
    "\n",
    "print (\"analytical answer is:\", int_decay) \n"
   ]
  },
  {
   "cell_type": "markdown",
   "metadata": {},
   "source": [
    "How does the number of steps (and thus the number of points at which the integrand must be evaluated) compare to the number you needed before, with the trapezoidal rule?"
   ]
  },
  {
   "cell_type": "markdown",
   "metadata": {},
   "source": [
    "<div class=answer>\n",
    "<div/>\n",
    " Romberg went through 4 steps while ours had to max our at 27. Romberg is a lot more efficient because it uses less steps and had higher accuracy than the adaptive method"
   ]
  },
  {
   "cell_type": "markdown",
   "metadata": {},
   "source": [
    "Here is an interesting observation, which I think might make Romberg extrapolation fit in better with what we have already seen.  We now seem to have two ways of going to higher order - the good old-fashioned way of using higher-order polynomials to go through the points (Newton-Cotes) or this new clever Romberg extrapolation way.\n",
    "You might have noticed that:\n",
    "1. the trapezoidal rule had an error of order $O(h^2)$, \n",
    "\n",
    "2. Simpson's rule  had an error of order $O(h^4)$, and now \n",
    "\n",
    "3. the first Romberg extrapolated value $R_{i,1}$ also has an error of order $O(h^4)$\n",
    "\n",
    "    **Caution:** I am following the $0$-based convention that $R_{i,0}$ is the trapezoidal rule value, $R_{i,1}$ is the first extrapolation, *etc.*  Note that Newman uses $1$-based numbering, starting with $R_{i,1}$ for the trapezoidal rule, *etc.*, instead.\n",
    "\n",
    "Might the first Romberg extrapolated value actually *be* Simpson'a rule???  Or does it just have an error which happens to be of the same order?  \n",
    "\n",
    "More concretely...  Go ahead and do Simpson's rule calculations with $2^i$ steps, and compare with the first extrapolated values in the Romberg method.  Are they the same or different?  "
   ]
  },
  {
   "cell_type": "code",
   "execution_count": 57,
   "metadata": {},
   "outputs": [
    {
     "name": "stdout",
     "output_type": "stream",
     "text": [
      "0.6323336800036626\n",
      "0.6321341753205323\n",
      "0.6321214146047422\n",
      "0.6321206123891728\n"
     ]
    }
   ],
   "source": [
    "n= [1,2,3,4]\n",
    "\n",
    "for n in n:\n",
    "    simp= integrate.integrate(f,(a,b), 2**n, order=2)[0]\n",
    "    print(simp)"
   ]
  },
  {
   "cell_type": "markdown",
   "metadata": {},
   "source": [
    "<div class=answer>\n",
    "<div/>\n",
    "They are very close to each other. "
   ]
  },
  {
   "cell_type": "markdown",
   "metadata": {},
   "source": [
    "Explain your result in terms of the\n",
    "formulas for Simpson's rule, the trapezoidal rule, and Romberg\n",
    "extrapolation."
   ]
  },
  {
   "cell_type": "markdown",
   "metadata": {},
   "source": [
    "<div class=answer>\n",
    "<div/>\n",
    "Answer here"
   ]
  },
  {
   "cell_type": "markdown",
   "metadata": {},
   "source": [
    "## Exercise 4\n",
    "### Life gets messy\n",
    "\n",
    "** Note:** You may find your output in this section to be too much information.  You do not need to print out the entirety of the verbose output for all these\n",
    "calculations.  \n",
    "\n",
    "Now that we are equipped with all these ultrapowerful integration\n",
    "algorithms, we should be ready to face any problem which is thrown at\n",
    "us, right???  So calculating the area of a circle should be a piece of\n",
    "cake, right?\n",
    "\n",
    "*Ha! Since when has ```pi``` been cake?*\n",
    "\n",
    "Plot the graph of the function $f(x)=\\sqrt{1-x^2}$ on $[-1,1]$."
   ]
  },
  {
   "cell_type": "code",
   "execution_count": 58,
   "metadata": {},
   "outputs": [
    {
     "data": {
      "image/png": "[encoded data removed]",
      "text/plain": [
       "<matplotlib.figure.Figure at 0x1eadd8d6cc0>"
      ]
     },
     "metadata": {},
     "output_type": "display_data"
    }
   ],
   "source": [
    "import numpy as np\n",
    "import matplotlib.pylab as plt\n",
    "%matplotlib inline\n",
    "\n",
    "x=[]\n",
    "y=[]\n",
    "for t in np.linspace(-1,1,100):\n",
    "    x.append(t)\n",
    "    y.append(math.sqrt(1-t**2))\n",
    "    \n",
    "plt.plot(x,y)\n",
    "plt.show()\n"
   ]
  },
  {
   "cell_type": "markdown",
   "metadata": {},
   "source": [
    "What is the analytically known value of the integral\n",
    "$$\n",
    "\\int_{-1}^{1}\\sqrt{1-x^2}\\,dx?\n",
    "$$\n",
    "**Note:** You may quote results from elementary school without further proof."
   ]
  },
  {
   "cell_type": "code",
   "execution_count": 64,
   "metadata": {},
   "outputs": [
    {
     "name": "stdout",
     "output_type": "stream",
     "text": [
      "1.5707963267948966\n"
     ]
    }
   ],
   "source": [
    "exactcircle= (.5* math.pi*1**2)\n",
    "print (exactcircle)"
   ]
  },
  {
   "cell_type": "markdown",
   "metadata": {},
   "source": [
    "<div class=answer>\n",
    "<div/>\n",
    "see above cell\n"
   ]
  },
  {
   "cell_type": "markdown",
   "metadata": {},
   "source": [
    "To reach a tolerence of $10^{-10}$ with the trapezoidal rule, how many\n",
    "iterations (and thus steps) are required?  Do you find that the\n",
    "residual of your \n",
    "calculated result, relative to the known true value, is consistent with the\n",
    "tolerance you asked for?  How about with Romberg extrapolation?"
   ]
  },
  {
   "cell_type": "code",
   "execution_count": 86,
   "metadata": {},
   "outputs": [
    {
     "name": "stdout",
     "output_type": "stream",
     "text": [
      "0.0\n",
      "integrating on range (-1, 1)\n",
      "  reference value +1.57080e+00\n",
      "\n",
      "R(0,0) +0.000000000000000e+00 ... residual +1.5708e+00\n",
      "\n",
      "R(1,0) +1.000000000000000e+00 epsilon(1,0) +3.3333e-01 ... residual +5.7080e-01\n",
      "R(1,1) +1.333333333333333e+00 ... residual +2.3746e-01\n",
      "\n",
      "R(2,0) +1.366025403784439e+00 epsilon(2,0) +1.2201e-01 ... residual +2.0477e-01\n",
      "R(2,1) +1.488033871712585e+00 epsilon(2,1) +1.0313e-02 ... residual +8.2762e-02\n",
      "R(2,2) +1.498347240937868e+00 ... residual +7.2449e-02\n",
      "\n",
      "R(3,0) +1.497854534051220e+00 epsilon(3,0) +4.3943e-02 ... residual +7.2942e-02\n",
      "R(3,1) +1.541797577473481e+00 epsilon(3,1) +3.5842e-03 ... residual +2.8999e-02\n",
      "R(3,2) +1.545381824524207e+00 epsilon(3,2) +7.4658e-04 ... residual +2.5415e-02\n",
      "R(3,3) +1.546128405216054e+00 ... residual +2.4668e-02\n",
      "\n",
      "R(4,0) +1.544909572178587e+00 epsilon(4,0) +1.5685e-02 ... residual +2.5887e-02\n",
      "R(4,1) +1.560594584887709e+00 epsilon(4,1) +1.2531e-03 ... residual +1.0202e-02\n",
      "R(4,2) +1.561847718715324e+00 epsilon(4,2) +2.6136e-04 ... residual +8.9486e-03\n",
      "R(4,3) +1.562109082115183e+00 epsilon(4,3) +6.2669e-05 ... residual +8.6872e-03\n",
      "R(4,4) +1.562171751436356e+00 ... residual +8.6246e-03\n",
      "\n",
      "R(5,0) +1.561626518913870e+00 epsilon(5,0) +5.5723e-03 ... residual +9.1698e-03\n",
      "R(5,1) +1.567198834492298e+00 epsilon(5,1) +4.4028e-04 ... residual +3.5975e-03\n",
      "R(5,2) +1.567639117799270e+00 epsilon(5,2) +9.1927e-05 ... residual +3.1572e-03\n",
      "R(5,3) +1.567731044768857e+00 epsilon(5,3) +2.2047e-05 ... residual +3.0653e-03\n",
      "R(5,4) +1.567753091681224e+00 epsilon(5,4) +5.4559e-06 ... residual +3.0432e-03\n",
      "R(5,5) +1.567758547536791e+00 ... residual +3.0378e-03\n",
      "\n",
      "R(6,0) +1.567551211438565e+00 epsilon(6,0) +1.9749e-03 ... residual +3.2451e-03\n",
      "R(6,1) +1.569526108946797e+00 epsilon(6,1) +1.5515e-04 ... residual +1.2702e-03\n",
      "R(6,2) +1.569681260577097e+00 epsilon(6,2) +3.2415e-05 ... residual +1.1151e-03\n",
      "R(6,3) +1.569713675541825e+00 epsilon(6,3) +7.7750e-06 ... residual +1.0827e-03\n",
      "R(6,4) +1.569721450564464e+00 epsilon(6,4) +1.9241e-06 ... residual +1.0749e-03\n",
      "R(6,5) +1.569723374668944e+00 epsilon(6,5) +4.7981e-07 ... residual +1.0730e-03\n",
      "R(6,6) +1.569723854480209e+00 ... residual +1.0725e-03\n",
      "\n",
      "R(7,0) +1.569648456389842e+00 epsilon(7,0) +6.9908e-04 ... residual +1.1479e-03\n",
      "R(7,1) +1.570347538040268e+00 epsilon(7,1) +5.4762e-05 ... residual +4.4879e-04\n",
      "R(7,2) +1.570402299979833e+00 epsilon(7,2) +1.1445e-05 ... residual +3.9403e-04\n",
      "R(7,3) +1.570413745049717e+00 epsilon(7,3) +2.7454e-06 ... residual +3.8258e-04\n",
      "R(7,4) +1.570416490420336e+00 epsilon(7,4) +6.7941e-07 ... residual +3.7984e-04\n",
      "R(7,5) +1.570417169833685e+00 epsilon(7,5) +1.6942e-07 ... residual +3.7916e-04\n",
      "R(7,6) +1.570417339258634e+00 epsilon(7,6) +4.2330e-08 ... residual +3.7899e-04\n",
      "R(7,7) +1.570417381588169e+00 ... residual +3.7895e-04\n",
      "\n",
      "R(8,0) +1.570390396198307e+00 epsilon(8,0) +2.4731e-04 ... residual +4.0593e-04\n",
      "R(8,1) +1.570637709467795e+00 epsilon(8,1) +1.9345e-05 ... residual +1.5862e-04\n",
      "R(8,2) +1.570657054229630e+00 epsilon(8,2) +4.0437e-06 ... residual +1.3927e-04\n",
      "R(8,3) +1.570661097947881e+00 epsilon(8,3) +9.7001e-07 ... residual +1.3523e-04\n",
      "R(8,4) +1.570662067959246e+00 epsilon(8,4) +2.4006e-07 ... residual +1.3426e-04\n",
      "R(8,5) +1.570662308015491e+00 epsilon(8,5) +5.9863e-08 ... residual +1.3402e-04\n",
      "R(8,6) +1.570662367878295e+00 epsilon(8,6) +1.4956e-08 ... residual +1.3396e-04\n",
      "R(8,7) +1.570662382834568e+00 epsilon(8,7) +3.7385e-09 ... residual +1.3394e-04\n",
      "R(8,8) +1.570662386573047e+00 ... residual +1.3394e-04\n",
      "\n",
      "R(9,0) +1.570652791478616e+00 epsilon(9,0) +8.7465e-05 ... residual +1.4354e-04\n",
      "R(9,1) +1.570740256572052e+00 epsilon(9,1) +6.8365e-06 ... residual +5.6070e-05\n",
      "R(9,2) +1.570747093045669e+00 epsilon(9,2) +1.4292e-06 ... residual +4.9234e-05\n",
      "R(9,3) +1.570748522233225e+00 epsilon(9,3) +3.4284e-07 ... residual +4.7805e-05\n",
      "R(9,4) +1.570748865073560e+00 epsilon(9,4) +8.4846e-08 ... residual +4.7462e-05\n",
      "R(9,5) +1.570748949919224e+00 epsilon(9,5) +2.1158e-08 ... residual +4.7377e-05\n",
      "R(9,6) +1.570748971077198e+00 epsilon(9,6) +5.2862e-09 ... residual +4.7356e-05\n",
      "R(9,7) +1.570748976363360e+00 epsilon(9,7) +1.3213e-09 ... residual +4.7350e-05\n",
      "R(9,8) +1.570748977684693e+00 epsilon(9,8) +3.3032e-10 ... residual +4.7349e-05\n",
      "R(9,9) +1.570748978015013e+00 ... residual +4.7349e-05\n",
      "\n",
      "R(10,0) +1.570745576359828e+00 epsilon(10,0) +3.0928e-05 ... residual +5.0750e-05\n",
      "R(10,1) +1.570776504653565e+00 epsilon(10,1) +2.4165e-06 ... residual +1.9822e-05\n",
      "R(10,2) +1.570778921192332e+00 epsilon(10,2) +5.0521e-07 ... residual +1.7406e-05\n",
      "R(10,3) +1.570779426401010e+00 epsilon(10,3) +1.2119e-07 ... residual +1.6900e-05\n",
      "R(10,4) +1.570779547593824e+00 epsilon(10,4) +2.9993e-08 ... residual +1.6779e-05\n",
      "R(10,5) +1.570779577586513e+00 epsilon(10,5) +7.4793e-09 ... residual +1.6749e-05\n",
      "R(10,6) +1.570779585065797e+00 epsilon(10,6) +1.8686e-09 ... residual +1.6742e-05\n",
      "R(10,7) +1.570779586934441e+00 epsilon(10,7) +4.6709e-10 ... residual +1.6740e-05\n",
      "R(10,8) +1.570779587401528e+00 epsilon(10,8) +1.1677e-10 ... residual +1.6739e-05\n",
      "R(10,9) +1.570779587518295e+00 epsilon(10,9) +2.9192e-11 ... residual +1.6739e-05\n",
      "R(10,10) +1.570779587547487e+00 ... residual +1.6739e-05\n",
      "\n"
     ]
    }
   ],
   "source": [
    "def fcircle (x):\n",
    "    return math.sqrt(1-(x**2))\n",
    "\n",
    "print(fcircle(1))\n",
    "\n",
    "rombergcircle = romberg.romberg(fcircle,(-1,1), tolerance, verbose= True, reference= exactcircle )\n"
   ]
  },
  {
   "cell_type": "markdown",
   "metadata": {},
   "source": [
    "<div class=answer>\n",
    "<div/>\n",
    "with the romberg method, there were 10 iterations and it stopped when epsilon has reached the tolerance. The tolerance and the risidual are not the same. "
   ]
  },
  {
   "cell_type": "markdown",
   "metadata": {},
   "source": [
    "Looking back at the\n",
    "Euler-Maclaurin formula, why might we expect this integral to be\n",
    "problematic?\n",
    "\n",
    "**Comment:**  Our whole analysis is based on the idea that the error in the trapezoidal rule is $O(h^2)$.  But occasionally the coefficient on $h^2$ can be important...\n"
   ]
  },
  {
   "cell_type": "markdown",
   "metadata": {},
   "source": [
    "<div class=answer>\n",
    "<div/>\n",
    "when I calculated epsilon f prime of a nd b give a divide by zero error so the errror cannot be calculated"
   ]
  },
  {
   "cell_type": "markdown",
   "metadata": {},
   "source": [
    "There is a further lesson to be learned here.   Sometimes just throwing numerical methods at a problem is not enough.  A little forethought can allow us to\n",
    "transform the problem into one which is more amenable to numerical solution.  Try\n",
    "making the trigonometric substitution $x=\\cos u$.\n",
    "\n",
    "You should have just found that the integral an equivalent to\n",
    "$\\int_0^\\pi \\sin^2 u\\,du$.  Do we still expect trouble?  (Explain.)  "
   ]
  },
  {
   "cell_type": "markdown",
   "metadata": {},
   "source": [
    "<div class=answer>\n",
    "<div/>\n",
    " we still get a zero but unlike last time the answer is zero and not a divide by zero error. this means we just have to go to a higher order. "
   ]
  },
  {
   "cell_type": "markdown",
   "metadata": {},
   "source": [
    "How does this transformed integral fare with the Romberg method?"
   ]
  },
  {
   "cell_type": "code",
   "execution_count": 138,
   "metadata": {},
   "outputs": [
    {
     "name": "stdout",
     "output_type": "stream",
     "text": [
      "integrating on range (0, 3.141592653589793)\n",
      "  reference value +1.57080e+00\n",
      "\n",
      "R(0,0) +2.355817157679958e-32 ... residual +1.5708e+00\n",
      "\n",
      "R(1,0) +1.570796326794897e+00 epsilon(1,0) +5.2360e-01 ... residual +0.0000e+00\n",
      "R(1,1) +2.094395102393195e+00 ... residual -5.2360e-01\n",
      "\n",
      "R(2,0) +1.570796326794897e+00 epsilon(2,0) +0.0000e+00 ... residual +0.0000e+00\n",
      "R(2,1) +1.570796326794897e+00 epsilon(2,1) -3.4907e-02 ... residual +0.0000e+00\n",
      "R(2,2) +1.535889741755010e+00 ... residual +3.4907e-02\n",
      "\n",
      "R(3,0) +1.570796326794897e+00 epsilon(3,0) +7.4015e-17 ... residual -2.2204e-16\n",
      "R(3,1) +1.570796326794897e+00 epsilon(3,1) +1.4803e-17 ... residual -2.2204e-16\n",
      "R(3,2) +1.570796326794897e+00 epsilon(3,2) +5.5407e-04 ... residual -4.4409e-16\n",
      "R(3,3) +1.571350399573308e+00 ... residual -5.5407e-04\n",
      "\n",
      "R(4,0) +1.570796326794897e+00 epsilon(4,0) +0.0000e+00 ... residual -2.2204e-16\n",
      "R(4,1) +1.570796326794897e+00 epsilon(4,1) +0.0000e+00 ... residual -2.2204e-16\n",
      "R(4,2) +1.570796326794897e+00 epsilon(4,2) -7.0490e-18 ... residual +0.0000e+00\n",
      "R(4,3) +1.570796326794897e+00 epsilon(4,3) -2.1728e-06 ... residual +0.0000e+00\n",
      "R(4,4) +1.570794153960472e+00 ... residual +2.1728e-06\n",
      "\n",
      "R(5,0) +1.570796326794897e+00 epsilon(5,0) +0.0000e+00 ... residual -2.2204e-16\n",
      "R(5,1) +1.570796326794897e+00 epsilon(5,1) +0.0000e+00 ... residual -2.2204e-16\n",
      "R(5,2) +1.570796326794897e+00 epsilon(5,2) +0.0000e+00 ... residual +0.0000e+00\n",
      "R(5,3) +1.570796326794897e+00 epsilon(5,3) +0.0000e+00 ... residual +0.0000e+00\n",
      "R(5,4) +1.570796326794897e+00 epsilon(5,4) +2.1240e-09 ... residual +0.0000e+00\n",
      "R(5,5) +1.570796328918880e+00 ... residual -2.1240e-09\n",
      "\n",
      "R(6,0) +1.570796326794896e+00 epsilon(6,0) -1.4803e-16 ... residual +2.2204e-16\n",
      "R(6,1) +1.570796326794896e+00 epsilon(6,1) -4.4409e-17 ... residual +4.4409e-16\n",
      "R(6,2) +1.570796326794896e+00 epsilon(6,2) -1.0574e-17 ... residual +6.6613e-16\n",
      "R(6,3) +1.570796326794896e+00 epsilon(6,3) -2.6123e-18 ... residual +6.6613e-16\n",
      "R(6,4) +1.570796326794896e+00 epsilon(6,4) -6.5116e-19 ... residual +6.6613e-16\n",
      "R(6,5) +1.570796326794896e+00 epsilon(6,5) -5.1868e-13 ... residual +6.6613e-16\n",
      "R(6,6) +1.570796326794377e+00 ... residual +5.1936e-13\n",
      "\n",
      "1.5707963267948966\n"
     ]
    }
   ],
   "source": [
    "def fsin(x): \n",
    "    return (math.sin(x))**2\n",
    "\n",
    "\n",
    "rombergsin= romberg.romberg(fsin,(0,math.pi), tolerance, verbose= True, reference= exactcircle )\n",
    "\n",
    "print (exactcircle)"
   ]
  },
  {
   "cell_type": "markdown",
   "metadata": {},
   "source": [
    "<div class=answer>\n",
    "<div/>\n",
    "the error and the risidual are still not at the same order."
   ]
  },
  {
   "cell_type": "markdown",
   "metadata": {},
   "source": [
    "## Exercise 5\n",
    "### Life continues to be messy: Oscillatory integrands\n",
    "\n",
    "One perpetual bane of physicists' existence is highly oscillator\n",
    "integrands.  \n",
    "\n",
    "Let us look at the integral\n",
    "$$\n",
    "\\int_0^{2\\pi} e^x \\sin 100x \\,dx.\n",
    "$$\n",
    "First, plot the integrand.  Comment on why it might be problematic.\n",
    "Can you speculate on how many slices might be needed for successful evaluation?"
   ]
  },
  {
   "cell_type": "code",
   "execution_count": 102,
   "metadata": {},
   "outputs": [
    {
     "data": {
      "image/png": "[encoded data removed]",
      "text/plain": [
       "<matplotlib.figure.Figure at 0x1eadda65b00>"
      ]
     },
     "metadata": {},
     "output_type": "display_data"
    }
   ],
   "source": [
    "def fex(x):\n",
    "    return math.exp(x)* math.sin(100*x)\n",
    "\n",
    "x=[]\n",
    "y=[]\n",
    "\n",
    "for t in np.linspace(0, 2*math.pi,1000):\n",
    "    x.append(t)\n",
    "    y.append(fex(t))\n",
    "plt.plot(x,y)\n",
    "plt.show()"
   ]
  },
  {
   "cell_type": "markdown",
   "metadata": {},
   "source": [
    "<div class=answer>\n",
    "<div/>\n",
    "\n",
    "this function fluctuates a lot so the h values have to be increadibly small to account for it."
   ]
  },
  {
   "cell_type": "markdown",
   "metadata": {},
   "source": [
    "Then, see how Romberg fares on this integral.  Comment."
   ]
  },
  {
   "cell_type": "code",
   "execution_count": 103,
   "metadata": {},
   "outputs": [
    {
     "name": "stdout",
     "output_type": "stream",
     "text": [
      "integrating on range (0, 6.283185307179586)\n",
      "\n",
      "R(0,0) +6.609362413411554e-12\n",
      "\n",
      "R(1,0) +3.447489430260185e-12 epsilon(1,0) -1.0540e-12\n",
      "R(1,1) +2.393531769209728e-12\n",
      "\n"
     ]
    }
   ],
   "source": [
    "osci= romberg.romberg(fex,(0,2*math.pi), tolerance, verbose= True )"
   ]
  },
  {
   "cell_type": "markdown",
   "metadata": {},
   "source": [
    "<div class=answer>\n",
    "<div/>\n",
    "Answer here"
   ]
  },
  {
   "cell_type": "markdown",
   "metadata": {},
   "source": [
    "Now try the integral\n",
    "$$\n",
    "\\int_0^{2\\pi} e^x \\sin 128x \\,dx.\n",
    "$$\n",
    "See how Romberg fares on this integral, and comment on why.\n",
    "Please attach your plot of the integrand."
   ]
  },
  {
   "cell_type": "code",
   "execution_count": null,
   "metadata": {
    "collapsed": true
   },
   "outputs": [],
   "source": [
    "#your code here"
   ]
  },
  {
   "cell_type": "markdown",
   "metadata": {},
   "source": [
    "<div class=answer>\n",
    "<div/>\n",
    "Answer here"
   ]
  },
  {
   "cell_type": "code",
   "execution_count": null,
   "metadata": {
    "collapsed": true
   },
   "outputs": [],
   "source": [
    "#plot here"
   ]
  },
  {
   "cell_type": "markdown",
   "metadata": {},
   "source": [
    "## Exercise 6\n",
    "### Integrals over infinite ranges\n",
    "\n",
    "Let us start by reproducing Newmans's Example 5.3 (on page 180).  But please ignore Newman's code for Gaussian integration.  Instead, we will continue to use our own Romberg integration function.\n",
    "\n",
    "Integrands which involve the Gaussian $e^{-x^2}$ show up throughout\n",
    "physics.  The basic Gaussian integral has a simple known value, so we\n",
    "will use it as our test case (as we used last week ):\n",
    "$$\n",
    "\\int_{-\\infty}^\\infty e^{-x^2}\\,dx=\\sqrt{\\pi}.\n",
    "$$\n",
    "\n",
    "The integrand is symmetric, so we are free to consider just one half\n",
    "($\\int_{0}^\\infty e^{-x^2}\\,dx$), as Newman uses for his example, then\n",
    "double the result.  Let us transform this integral according\n",
    "to (5.67), to make sure we see how Newman got his expression.\n",
    "\n",
    "**Sorry about the\n",
    "overloading of Gauss's name. A \"Gaussian integral\" is an integral of\n",
    "the Gaussian function.  \"Gaussian integration\" is integration by Gaussian\n",
    "quadrature.  The two are not particularly related.**"
   ]
  },
  {
   "cell_type": "markdown",
   "metadata": {},
   "source": [
    "<div class=answer>\n",
    "<div/>\n",
    "did this on whiteboard "
   ]
  },
  {
   "cell_type": "markdown",
   "metadata": {},
   "source": [
    "Now try to evaluate the transformed integral using the Romberg\n",
    "method.  What problem do you encounter, and how can you fix it?\n",
    "It will help to make a plot of the integrand.\n",
    "\n",
    "**Hint:** From looking at the plot,  what is the integrand's limit as $z\\rightarrow 1$?\n"
   ]
  },
  {
   "cell_type": "code",
   "execution_count": 108,
   "metadata": {},
   "outputs": [
    {
     "name": "stdout",
     "output_type": "stream",
     "text": [
      "integrating on range (0, 1)\n",
      "\n"
     ]
    },
    {
     "ename": "ZeroDivisionError",
     "evalue": "division by zero",
     "output_type": "error",
     "traceback": [
      "\u001b[1;31m---------------------------------------------------------------------------\u001b[0m",
      "\u001b[1;31mZeroDivisionError\u001b[0m                         Traceback (most recent call last)",
      "\u001b[1;32m<ipython-input-108-6e3a898b5540>\u001b[0m in \u001b[0;36m<module>\u001b[1;34m()\u001b[0m\n\u001b[0;32m      3\u001b[0m \u001b[1;33m\u001b[0m\u001b[0m\n\u001b[0;32m      4\u001b[0m \u001b[1;33m\u001b[0m\u001b[0m\n\u001b[1;32m----> 5\u001b[1;33m \u001b[0manswer\u001b[0m\u001b[1;33m=\u001b[0m \u001b[0mromberg\u001b[0m\u001b[1;33m.\u001b[0m\u001b[0mromberg\u001b[0m\u001b[1;33m(\u001b[0m\u001b[0mf\u001b[0m\u001b[1;33m,\u001b[0m\u001b[1;33m(\u001b[0m\u001b[1;36m0\u001b[0m\u001b[1;33m,\u001b[0m\u001b[1;36m1\u001b[0m\u001b[1;33m)\u001b[0m\u001b[1;33m,\u001b[0m \u001b[0mtolerance\u001b[0m\u001b[1;33m,\u001b[0m \u001b[0mverbose\u001b[0m\u001b[1;33m=\u001b[0m \u001b[1;32mTrue\u001b[0m \u001b[1;33m)\u001b[0m\u001b[1;33m\u001b[0m\u001b[0m\n\u001b[0m",
      "\u001b[1;32m~\\Desktop\\GitStuff\\repositories\\Weekly-Sessions\\romberg.py\u001b[0m in \u001b[0;36mromberg\u001b[1;34m(f, interval, tolerance, verbose, min_order, max_order, reference)\u001b[0m\n\u001b[0;32m     39\u001b[0m     \u001b[0mi\u001b[0m \u001b[1;33m=\u001b[0m \u001b[1;36m0\u001b[0m  \u001b[1;31m# exponent for number of steps\u001b[0m\u001b[1;33m\u001b[0m\u001b[0m\n\u001b[0;32m     40\u001b[0m     \u001b[0mh\u001b[0m \u001b[1;33m=\u001b[0m \u001b[1;33m(\u001b[0m\u001b[0mb\u001b[0m\u001b[1;33m-\u001b[0m\u001b[0ma\u001b[0m\u001b[1;33m)\u001b[0m\u001b[1;33m/\u001b[0m\u001b[1;33m(\u001b[0m\u001b[1;36m2\u001b[0m\u001b[1;33m**\u001b[0m\u001b[0mi\u001b[0m\u001b[1;33m)\u001b[0m  \u001b[1;31m# step size\u001b[0m\u001b[1;33m\u001b[0m\u001b[0m\n\u001b[1;32m---> 41\u001b[1;33m     \u001b[0mR0\u001b[0m \u001b[1;33m=\u001b[0m \u001b[1;33m(\u001b[0m\u001b[1;36m1\u001b[0m\u001b[1;33m/\u001b[0m\u001b[1;36m2\u001b[0m\u001b[1;33m)\u001b[0m\u001b[1;33m*\u001b[0m\u001b[1;33m(\u001b[0m\u001b[0mb\u001b[0m\u001b[1;33m-\u001b[0m\u001b[0ma\u001b[0m\u001b[1;33m)\u001b[0m\u001b[1;33m*\u001b[0m\u001b[1;33m(\u001b[0m\u001b[0mf\u001b[0m\u001b[1;33m(\u001b[0m\u001b[0ma\u001b[0m\u001b[1;33m)\u001b[0m\u001b[1;33m+\u001b[0m\u001b[0mf\u001b[0m\u001b[1;33m(\u001b[0m\u001b[0mb\u001b[0m\u001b[1;33m)\u001b[0m\u001b[1;33m)\u001b[0m   \u001b[1;31m# basic trapezoidal estimate\u001b[0m\u001b[1;33m\u001b[0m\u001b[0m\n\u001b[0m\u001b[0;32m     42\u001b[0m     \u001b[0mR_values\u001b[0m \u001b[1;33m=\u001b[0m \u001b[1;33m[\u001b[0m\u001b[0mR0\u001b[0m\u001b[1;33m]\u001b[0m  \u001b[1;31m# current list of Romberg values\u001b[0m\u001b[1;33m\u001b[0m\u001b[0m\n\u001b[0;32m     43\u001b[0m \u001b[1;33m\u001b[0m\u001b[0m\n",
      "\u001b[1;32m<ipython-input-108-6e3a898b5540>\u001b[0m in \u001b[0;36mf\u001b[1;34m(z)\u001b[0m\n\u001b[0;32m      1\u001b[0m \u001b[1;32mdef\u001b[0m \u001b[0mf\u001b[0m\u001b[1;33m(\u001b[0m\u001b[0mz\u001b[0m\u001b[1;33m)\u001b[0m\u001b[1;33m:\u001b[0m\u001b[1;33m\u001b[0m\u001b[0m\n\u001b[1;32m----> 2\u001b[1;33m     \u001b[1;32mreturn\u001b[0m \u001b[0mnp\u001b[0m\u001b[1;33m.\u001b[0m\u001b[0mexp\u001b[0m\u001b[1;33m(\u001b[0m\u001b[1;33m-\u001b[0m\u001b[0mz\u001b[0m\u001b[1;33m**\u001b[0m\u001b[1;36m2\u001b[0m\u001b[1;33m/\u001b[0m\u001b[1;33m(\u001b[0m\u001b[1;36m1\u001b[0m\u001b[1;33m-\u001b[0m\u001b[0mz\u001b[0m\u001b[1;33m)\u001b[0m\u001b[1;33m**\u001b[0m\u001b[1;36m2\u001b[0m\u001b[1;33m)\u001b[0m\u001b[1;33m/\u001b[0m\u001b[1;33m(\u001b[0m\u001b[1;36m1\u001b[0m\u001b[1;33m-\u001b[0m\u001b[0mz\u001b[0m\u001b[1;33m)\u001b[0m\u001b[1;33m**\u001b[0m\u001b[1;36m2\u001b[0m\u001b[1;33m\u001b[0m\u001b[0m\n\u001b[0m\u001b[0;32m      3\u001b[0m \u001b[1;33m\u001b[0m\u001b[0m\n\u001b[0;32m      4\u001b[0m \u001b[1;33m\u001b[0m\u001b[0m\n\u001b[0;32m      5\u001b[0m \u001b[0manswer\u001b[0m\u001b[1;33m=\u001b[0m \u001b[0mromberg\u001b[0m\u001b[1;33m.\u001b[0m\u001b[0mromberg\u001b[0m\u001b[1;33m(\u001b[0m\u001b[0mf\u001b[0m\u001b[1;33m,\u001b[0m\u001b[1;33m(\u001b[0m\u001b[1;36m0\u001b[0m\u001b[1;33m,\u001b[0m\u001b[1;36m1\u001b[0m\u001b[1;33m)\u001b[0m\u001b[1;33m,\u001b[0m \u001b[0mtolerance\u001b[0m\u001b[1;33m,\u001b[0m \u001b[0mverbose\u001b[0m\u001b[1;33m=\u001b[0m \u001b[1;32mTrue\u001b[0m \u001b[1;33m)\u001b[0m\u001b[1;33m\u001b[0m\u001b[0m\n",
      "\u001b[1;31mZeroDivisionError\u001b[0m: division by zero"
     ]
    }
   ],
   "source": [
    "def f(z):\n",
    "    return np.exp(-z**2/(1-z)**2)/(1-z)**2\n",
    "    \n",
    "\n",
    "answer= romberg.romberg(f,(0,1), tolerance, verbose= True )"
   ]
  },
  {
   "cell_type": "markdown",
   "metadata": {},
   "source": [
    "<div class=answer>\n",
    "<div/>\n",
    "There is a divide by zero error when evaluating at the end of the interval. "
   ]
  },
  {
   "cell_type": "markdown",
   "metadata": {},
   "source": [
    "Finally, how does the Romberg method fare on the integral? Explain."
   ]
  },
  {
   "cell_type": "code",
   "execution_count": 114,
   "metadata": {},
   "outputs": [
    {
     "name": "stdout",
     "output_type": "stream",
     "text": [
      "integrating on range (0, 0.9999999999)\n",
      "\n",
      "R(0,0) +4.999999999500000e-01\n",
      "\n",
      "R(1,0) +9.857588823914606e-01 epsilon(1,0) +1.6192e-01\n",
      "R(1,1) +1.147678509871947e+00\n",
      "\n",
      "R(2,0) +8.910794433893940e-01 epsilon(2,0) -3.1560e-02\n",
      "R(2,1) +8.595196303887052e-01 epsilon(2,1) -1.9211e-02\n",
      "R(2,2) +8.403090384231556e-01\n",
      "\n",
      "R(3,0) +8.840312978302247e-01 epsilon(3,0) -2.3494e-03\n",
      "R(3,1) +8.816819159771683e-01 epsilon(3,1) +1.4775e-03\n",
      "R(3,2) +8.831594016830658e-01 epsilon(3,2) +6.8016e-04\n",
      "R(3,3) +8.838395661792549e-01\n",
      "\n",
      "R(4,0) +8.855767607479196e-01 epsilon(4,0) +5.1515e-04\n",
      "R(4,1) +8.860919150538178e-01 epsilon(4,1) +2.9400e-04\n",
      "R(4,2) +8.863859149922610e-01 epsilon(4,2) +5.1214e-05\n",
      "R(4,3) +8.864371294892324e-01 epsilon(4,3) +1.0187e-05\n",
      "R(4,4) +8.864473160120165e-01\n",
      "\n",
      "R(5,0) +8.860641650845688e-01 epsilon(5,0) +1.6247e-04\n",
      "R(5,1) +8.862266331967851e-01 epsilon(5,1) +8.9812e-06\n",
      "R(5,2) +8.862356144063162e-01 epsilon(5,2) -2.3857e-06\n",
      "R(5,3) +8.862332286827297e-01 epsilon(5,3) -7.9961e-07\n",
      "R(5,4) +8.862324290717238e-01 epsilon(5,4) -2.1006e-07\n",
      "R(5,5) +8.862322190160637e-01\n",
      "\n",
      "R(6,0) +8.861862353492347e-01 epsilon(6,0) +4.0690e-05\n",
      "R(6,1) +8.862269254374566e-01 epsilon(6,1) +1.9483e-08\n",
      "R(6,2) +8.862269449201681e-01 epsilon(6,2) -1.3761e-07\n",
      "R(6,3) +8.862268073092767e-01 epsilon(6,3) -2.5182e-08\n",
      "R(6,4) +8.862267821274200e-01 epsilon(6,4) -5.5200e-09\n",
      "R(6,5) +8.862267766074354e-01 epsilon(6,5) -1.3290e-09\n",
      "R(6,6) +8.862267752783979e-01\n",
      "\n",
      "R(7,0) +8.862167529267281e-01 epsilon(7,0) +1.0173e-05\n",
      "R(7,1) +8.862269254525592e-01 epsilon(7,1) +1.0068e-12\n",
      "R(7,2) +8.862269254535660e-01 epsilon(7,2) -3.0899e-10\n",
      "R(7,3) +8.862269251445722e-01 epsilon(7,3) +4.6210e-10\n",
      "R(7,4) +8.862269256066715e-01 epsilon(7,4) +1.4025e-10\n",
      "R(7,5) +8.862269257469249e-01 epsilon(7,5) +3.6420e-11\n",
      "R(7,6) +8.862269257833447e-01 epsilon(7,6) +9.1867e-12\n",
      "R(7,7) +8.862269257925313e-01\n",
      "\n",
      "0.886226925793\n",
      "0.8862269254527579\n"
     ]
    }
   ],
   "source": [
    "answer= romberg.romberg(f,(0,1-(10**-10)), tolerance, verbose= True )\n",
    "print(answer)\n",
    "print (.5*math.sqrt(math.pi))"
   ]
  },
  {
   "cell_type": "markdown",
   "metadata": {},
   "source": [
    "<div class=answer>\n",
    "<div/>\n",
    "Romberg does fairly well"
   ]
  },
  {
   "cell_type": "markdown",
   "metadata": {},
   "source": [
    "Plot your transformed integrand."
   ]
  },
  {
   "cell_type": "code",
   "execution_count": 117,
   "metadata": {},
   "outputs": [
    {
     "data": {
      "image/png": "[encoded data removed]",
      "text/plain": [
       "<matplotlib.figure.Figure at 0x1eadc448e48>"
      ]
     },
     "metadata": {},
     "output_type": "display_data"
    }
   ],
   "source": [
    "def f(z):\n",
    "    return np.exp(-z**2/(1-z)**2)/(1-z)**2\n",
    "\n",
    "x=[]\n",
    "y=[]\n",
    "\n",
    "for t in np.linspace(-10,10,1000):\n",
    "    x.append(t)\n",
    "    y.append(f(t))\n",
    "plt.plot(x,y)\n",
    "plt.show()"
   ]
  },
  {
   "cell_type": "markdown",
   "metadata": {},
   "source": [
    "## Numerical differentiation\n",
    "\n",
    "** Newman Exercise 5.15 **\n",
    "\n",
    "Create a user-defined function ```f(x)``` that returns the value $1 + \\frac{1}{2} \\tanh(2x)$, then use a central difference to calculate the derivative of the function in the range $-2\\le x\\le2$.  Calculate an analytic formula for the derivative and make a graph with your numerical result and the analytic answer on the same plot.  It may help to plot the exact answer as lines and the numerical one as dots.  \n",
    "\n",
    "**Hint:** In Python the ```tanh``` function is found in the ```math``` package, and it's called simply ```tanh```.\n",
    "\n",
    "Please attach your code and plots.\n"
   ]
  },
  {
   "cell_type": "code",
   "execution_count": 135,
   "metadata": {},
   "outputs": [
    {
     "data": {
      "image/png": "[encoded data removed]",
      "text/plain": [
       "<matplotlib.figure.Figure at 0x1eadeae23c8>"
      ]
     },
     "metadata": {},
     "output_type": "display_data"
    }
   ],
   "source": [
    "from math import tanh, cosh\n",
    "def fd(x):\n",
    "    return 1+ .5*tanh(2*x)\n",
    "\n",
    "def fanalytical(x):\n",
    "    return 24*(cosh(2*x))**2\n",
    "h= 10\n",
    "\n",
    "x=[]\n",
    "y=[]\n",
    "yanalitical=[]\n",
    "\n",
    "for t in np.linspace(-2,2,100):\n",
    "    x.append (t)\n",
    "    df= (fd(t + h/2) - fd(t - h/2))/h\n",
    "    y.append(df)\n",
    "    yanalitical.append(fanalytical(t))\n",
    "\n",
    "plt.plot(x,y, \".\")\n",
    "plt.plot(x,yanalitical,)\n",
    "plt.show()   "
   ]
  },
  {
   "cell_type": "code",
   "execution_count": null,
   "metadata": {
    "collapsed": true
   },
   "outputs": [],
   "source": []
  }
 ],
 "metadata": {
  "kernelspec": {
   "display_name": "Python 3",
   "language": "python",
   "name": "python3"
  }
 },
 "nbformat": 4,
 "nbformat_minor": 2
}
